{
  "nbformat": 4,
  "nbformat_minor": 0,
  "metadata": {
    "colab": {
      "name": "Credit_Card.ipynb",
      "provenance": [],
      "collapsed_sections": [
        "yuPrZnDOjg4F",
        "eI0iVVSwSI3p",
        "htuAxpj6R_bU",
        "Xez6UJcHSs20",
        "8N6A6iUCf7mJ"
      ],
      "toc_visible": true
    },
    "kernelspec": {
      "name": "python3",
      "display_name": "Python 3"
    },
    "language_info": {
      "name": "python"
    }
  },
  "cells": [
    {
      "cell_type": "markdown",
      "metadata": {
        "id": "GiEDv-mMSSF_"
      },
      "source": [
        "#**CREDIT CARD PREDICTION**"
      ]
    },
    {
      "cell_type": "markdown",
      "metadata": {
        "id": "yuPrZnDOjg4F"
      },
      "source": [
        "###**IMPORTS**"
      ]
    },
    {
      "cell_type": "code",
      "metadata": {
        "id": "X_I7Ybu9EEWK"
      },
      "source": [
        "import warnings\n",
        "warnings.filterwarnings('ignore')\n",
        "import pandas as pd\n",
        "from sklearn.preprocessing import LabelEncoder\n",
        "import seaborn as sns\n",
        "import matplotlib.pyplot as plt"
      ],
      "execution_count": 1,
      "outputs": []
    },
    {
      "cell_type": "markdown",
      "metadata": {
        "id": "eI0iVVSwSI3p"
      },
      "source": [
        "###**CLEANING TRAIN DATA**"
      ]
    },
    {
      "cell_type": "code",
      "metadata": {
        "colab": {
          "base_uri": "https://localhost:8080/",
          "height": 402
        },
        "id": "GA7rM12sdzJL",
        "outputId": "d7fc923c-4eb7-4cfb-8144-0f57b656cd34"
      },
      "source": [
        "#I have attached my drive nad imported files from there change the path before executing it \n",
        "train = pd.read_csv(\"/content/drive/MyDrive/Colab Notebooks/Analytics Vidya/train_s3TEQDk.csv\")\n",
        "train"
      ],
      "execution_count": 2,
      "outputs": [
        {
          "output_type": "execute_result",
          "data": {
            "text/html": [
              "<div>\n",
              "<style scoped>\n",
              "    .dataframe tbody tr th:only-of-type {\n",
              "        vertical-align: middle;\n",
              "    }\n",
              "\n",
              "    .dataframe tbody tr th {\n",
              "        vertical-align: top;\n",
              "    }\n",
              "\n",
              "    .dataframe thead th {\n",
              "        text-align: right;\n",
              "    }\n",
              "</style>\n",
              "<table border=\"1\" class=\"dataframe\">\n",
              "  <thead>\n",
              "    <tr style=\"text-align: right;\">\n",
              "      <th></th>\n",
              "      <th>ID</th>\n",
              "      <th>Gender</th>\n",
              "      <th>Age</th>\n",
              "      <th>Region_Code</th>\n",
              "      <th>Occupation</th>\n",
              "      <th>Channel_Code</th>\n",
              "      <th>Vintage</th>\n",
              "      <th>Credit_Product</th>\n",
              "      <th>Avg_Account_Balance</th>\n",
              "      <th>Is_Active</th>\n",
              "      <th>Is_Lead</th>\n",
              "    </tr>\n",
              "  </thead>\n",
              "  <tbody>\n",
              "    <tr>\n",
              "      <th>0</th>\n",
              "      <td>NNVBBKZB</td>\n",
              "      <td>Female</td>\n",
              "      <td>73</td>\n",
              "      <td>RG268</td>\n",
              "      <td>Other</td>\n",
              "      <td>X3</td>\n",
              "      <td>43</td>\n",
              "      <td>No</td>\n",
              "      <td>1045696</td>\n",
              "      <td>No</td>\n",
              "      <td>0</td>\n",
              "    </tr>\n",
              "    <tr>\n",
              "      <th>1</th>\n",
              "      <td>IDD62UNG</td>\n",
              "      <td>Female</td>\n",
              "      <td>30</td>\n",
              "      <td>RG277</td>\n",
              "      <td>Salaried</td>\n",
              "      <td>X1</td>\n",
              "      <td>32</td>\n",
              "      <td>No</td>\n",
              "      <td>581988</td>\n",
              "      <td>No</td>\n",
              "      <td>0</td>\n",
              "    </tr>\n",
              "    <tr>\n",
              "      <th>2</th>\n",
              "      <td>HD3DSEMC</td>\n",
              "      <td>Female</td>\n",
              "      <td>56</td>\n",
              "      <td>RG268</td>\n",
              "      <td>Self_Employed</td>\n",
              "      <td>X3</td>\n",
              "      <td>26</td>\n",
              "      <td>No</td>\n",
              "      <td>1484315</td>\n",
              "      <td>Yes</td>\n",
              "      <td>0</td>\n",
              "    </tr>\n",
              "    <tr>\n",
              "      <th>3</th>\n",
              "      <td>BF3NC7KV</td>\n",
              "      <td>Male</td>\n",
              "      <td>34</td>\n",
              "      <td>RG270</td>\n",
              "      <td>Salaried</td>\n",
              "      <td>X1</td>\n",
              "      <td>19</td>\n",
              "      <td>No</td>\n",
              "      <td>470454</td>\n",
              "      <td>No</td>\n",
              "      <td>0</td>\n",
              "    </tr>\n",
              "    <tr>\n",
              "      <th>4</th>\n",
              "      <td>TEASRWXV</td>\n",
              "      <td>Female</td>\n",
              "      <td>30</td>\n",
              "      <td>RG282</td>\n",
              "      <td>Salaried</td>\n",
              "      <td>X1</td>\n",
              "      <td>33</td>\n",
              "      <td>No</td>\n",
              "      <td>886787</td>\n",
              "      <td>No</td>\n",
              "      <td>0</td>\n",
              "    </tr>\n",
              "    <tr>\n",
              "      <th>...</th>\n",
              "      <td>...</td>\n",
              "      <td>...</td>\n",
              "      <td>...</td>\n",
              "      <td>...</td>\n",
              "      <td>...</td>\n",
              "      <td>...</td>\n",
              "      <td>...</td>\n",
              "      <td>...</td>\n",
              "      <td>...</td>\n",
              "      <td>...</td>\n",
              "      <td>...</td>\n",
              "    </tr>\n",
              "    <tr>\n",
              "      <th>245720</th>\n",
              "      <td>BPAWWXZN</td>\n",
              "      <td>Male</td>\n",
              "      <td>51</td>\n",
              "      <td>RG284</td>\n",
              "      <td>Self_Employed</td>\n",
              "      <td>X3</td>\n",
              "      <td>109</td>\n",
              "      <td>NaN</td>\n",
              "      <td>1925586</td>\n",
              "      <td>No</td>\n",
              "      <td>0</td>\n",
              "    </tr>\n",
              "    <tr>\n",
              "      <th>245721</th>\n",
              "      <td>HFNB7JY8</td>\n",
              "      <td>Male</td>\n",
              "      <td>27</td>\n",
              "      <td>RG268</td>\n",
              "      <td>Salaried</td>\n",
              "      <td>X1</td>\n",
              "      <td>15</td>\n",
              "      <td>No</td>\n",
              "      <td>862952</td>\n",
              "      <td>Yes</td>\n",
              "      <td>0</td>\n",
              "    </tr>\n",
              "    <tr>\n",
              "      <th>245722</th>\n",
              "      <td>GEHAUCWT</td>\n",
              "      <td>Female</td>\n",
              "      <td>26</td>\n",
              "      <td>RG281</td>\n",
              "      <td>Salaried</td>\n",
              "      <td>X1</td>\n",
              "      <td>13</td>\n",
              "      <td>No</td>\n",
              "      <td>670659</td>\n",
              "      <td>No</td>\n",
              "      <td>0</td>\n",
              "    </tr>\n",
              "    <tr>\n",
              "      <th>245723</th>\n",
              "      <td>GE7V8SAH</td>\n",
              "      <td>Female</td>\n",
              "      <td>28</td>\n",
              "      <td>RG273</td>\n",
              "      <td>Salaried</td>\n",
              "      <td>X1</td>\n",
              "      <td>31</td>\n",
              "      <td>No</td>\n",
              "      <td>407504</td>\n",
              "      <td>No</td>\n",
              "      <td>0</td>\n",
              "    </tr>\n",
              "    <tr>\n",
              "      <th>245724</th>\n",
              "      <td>BOCZSWLJ</td>\n",
              "      <td>Male</td>\n",
              "      <td>29</td>\n",
              "      <td>RG269</td>\n",
              "      <td>Salaried</td>\n",
              "      <td>X1</td>\n",
              "      <td>21</td>\n",
              "      <td>No</td>\n",
              "      <td>1129276</td>\n",
              "      <td>No</td>\n",
              "      <td>0</td>\n",
              "    </tr>\n",
              "  </tbody>\n",
              "</table>\n",
              "<p>245725 rows × 11 columns</p>\n",
              "</div>"
            ],
            "text/plain": [
              "              ID  Gender  Age  ... Avg_Account_Balance Is_Active Is_Lead\n",
              "0       NNVBBKZB  Female   73  ...             1045696        No       0\n",
              "1       IDD62UNG  Female   30  ...              581988        No       0\n",
              "2       HD3DSEMC  Female   56  ...             1484315       Yes       0\n",
              "3       BF3NC7KV    Male   34  ...              470454        No       0\n",
              "4       TEASRWXV  Female   30  ...              886787        No       0\n",
              "...          ...     ...  ...  ...                 ...       ...     ...\n",
              "245720  BPAWWXZN    Male   51  ...             1925586        No       0\n",
              "245721  HFNB7JY8    Male   27  ...              862952       Yes       0\n",
              "245722  GEHAUCWT  Female   26  ...              670659        No       0\n",
              "245723  GE7V8SAH  Female   28  ...              407504        No       0\n",
              "245724  BOCZSWLJ    Male   29  ...             1129276        No       0\n",
              "\n",
              "[245725 rows x 11 columns]"
            ]
          },
          "metadata": {
            "tags": []
          },
          "execution_count": 2
        }
      ]
    },
    {
      "cell_type": "code",
      "metadata": {
        "colab": {
          "base_uri": "https://localhost:8080/"
        },
        "id": "luB0FrbwLWUX",
        "outputId": "28684aee-857d-4ae0-923a-541597d2e4d7"
      },
      "source": [
        "train.isnull().sum()"
      ],
      "execution_count": 3,
      "outputs": [
        {
          "output_type": "execute_result",
          "data": {
            "text/plain": [
              "ID                         0\n",
              "Gender                     0\n",
              "Age                        0\n",
              "Region_Code                0\n",
              "Occupation                 0\n",
              "Channel_Code               0\n",
              "Vintage                    0\n",
              "Credit_Product         29325\n",
              "Avg_Account_Balance        0\n",
              "Is_Active                  0\n",
              "Is_Lead                    0\n",
              "dtype: int64"
            ]
          },
          "metadata": {
            "tags": []
          },
          "execution_count": 3
        }
      ]
    },
    {
      "cell_type": "code",
      "metadata": {
        "colab": {
          "base_uri": "https://localhost:8080/"
        },
        "id": "49Et0chiIUK4",
        "outputId": "4d3948ad-aa49-455e-8dae-4cb825b4e05f"
      },
      "source": [
        "new_train = train.fillna('Yes')\n",
        "new_train.isnull().sum()"
      ],
      "execution_count": 4,
      "outputs": [
        {
          "output_type": "execute_result",
          "data": {
            "text/plain": [
              "ID                     0\n",
              "Gender                 0\n",
              "Age                    0\n",
              "Region_Code            0\n",
              "Occupation             0\n",
              "Channel_Code           0\n",
              "Vintage                0\n",
              "Credit_Product         0\n",
              "Avg_Account_Balance    0\n",
              "Is_Active              0\n",
              "Is_Lead                0\n",
              "dtype: int64"
            ]
          },
          "metadata": {
            "tags": []
          },
          "execution_count": 4
        }
      ]
    },
    {
      "cell_type": "code",
      "metadata": {
        "id": "xIekAUM4Eu8d"
      },
      "source": [
        "label = LabelEncoder()"
      ],
      "execution_count": 5,
      "outputs": []
    },
    {
      "cell_type": "code",
      "metadata": {
        "colab": {
          "base_uri": "https://localhost:8080/",
          "height": 215
        },
        "id": "GCChzC--HXig",
        "outputId": "93af7d9f-dea2-489a-f8e9-cc6caf062409"
      },
      "source": [
        "new_train['Credit_Product_new'] = label.fit_transform(new_train['Credit_Product'])\n",
        "new_train = new_train.drop(\"Credit_Product\", axis = \"columns\")\n",
        "\n",
        "new_train['Is_Active_new'] = label.fit_transform(new_train['Is_Active'])\n",
        "new_train = new_train.drop(\"Is_Active\", axis = \"columns\")\n",
        "\n",
        "new_train['Channel_Code_new'] = label.fit_transform(new_train['Channel_Code'])\n",
        "new_train = new_train.drop(\"Channel_Code\", axis = \"columns\")\n",
        "\n",
        "new_train['Occupation_new'] = label.fit_transform(new_train['Occupation'])\n",
        "new_train = new_train.drop(\"Occupation\", axis = \"columns\")\n",
        "\n",
        "new_train['Gender_New'] = label.fit_transform(new_train['Gender'])\n",
        "new_train = new_train.drop(\"Gender\", axis = \"columns\")\n",
        "\n",
        "new_train['Region_Code_New'] = label.fit_transform(new_train['Region_Code'])\n",
        "new_train = new_train.drop(\"Region_Code\", axis = \"columns\")\n",
        "\n",
        "new_train.head()"
      ],
      "execution_count": 6,
      "outputs": [
        {
          "output_type": "execute_result",
          "data": {
            "text/html": [
              "<div>\n",
              "<style scoped>\n",
              "    .dataframe tbody tr th:only-of-type {\n",
              "        vertical-align: middle;\n",
              "    }\n",
              "\n",
              "    .dataframe tbody tr th {\n",
              "        vertical-align: top;\n",
              "    }\n",
              "\n",
              "    .dataframe thead th {\n",
              "        text-align: right;\n",
              "    }\n",
              "</style>\n",
              "<table border=\"1\" class=\"dataframe\">\n",
              "  <thead>\n",
              "    <tr style=\"text-align: right;\">\n",
              "      <th></th>\n",
              "      <th>ID</th>\n",
              "      <th>Age</th>\n",
              "      <th>Vintage</th>\n",
              "      <th>Avg_Account_Balance</th>\n",
              "      <th>Is_Lead</th>\n",
              "      <th>Credit_Product_new</th>\n",
              "      <th>Is_Active_new</th>\n",
              "      <th>Channel_Code_new</th>\n",
              "      <th>Occupation_new</th>\n",
              "      <th>Gender_New</th>\n",
              "      <th>Region_Code_New</th>\n",
              "    </tr>\n",
              "  </thead>\n",
              "  <tbody>\n",
              "    <tr>\n",
              "      <th>0</th>\n",
              "      <td>NNVBBKZB</td>\n",
              "      <td>73</td>\n",
              "      <td>43</td>\n",
              "      <td>1045696</td>\n",
              "      <td>0</td>\n",
              "      <td>0</td>\n",
              "      <td>0</td>\n",
              "      <td>2</td>\n",
              "      <td>1</td>\n",
              "      <td>0</td>\n",
              "      <td>18</td>\n",
              "    </tr>\n",
              "    <tr>\n",
              "      <th>1</th>\n",
              "      <td>IDD62UNG</td>\n",
              "      <td>30</td>\n",
              "      <td>32</td>\n",
              "      <td>581988</td>\n",
              "      <td>0</td>\n",
              "      <td>0</td>\n",
              "      <td>0</td>\n",
              "      <td>0</td>\n",
              "      <td>2</td>\n",
              "      <td>0</td>\n",
              "      <td>27</td>\n",
              "    </tr>\n",
              "    <tr>\n",
              "      <th>2</th>\n",
              "      <td>HD3DSEMC</td>\n",
              "      <td>56</td>\n",
              "      <td>26</td>\n",
              "      <td>1484315</td>\n",
              "      <td>0</td>\n",
              "      <td>0</td>\n",
              "      <td>1</td>\n",
              "      <td>2</td>\n",
              "      <td>3</td>\n",
              "      <td>0</td>\n",
              "      <td>18</td>\n",
              "    </tr>\n",
              "    <tr>\n",
              "      <th>3</th>\n",
              "      <td>BF3NC7KV</td>\n",
              "      <td>34</td>\n",
              "      <td>19</td>\n",
              "      <td>470454</td>\n",
              "      <td>0</td>\n",
              "      <td>0</td>\n",
              "      <td>0</td>\n",
              "      <td>0</td>\n",
              "      <td>2</td>\n",
              "      <td>1</td>\n",
              "      <td>20</td>\n",
              "    </tr>\n",
              "    <tr>\n",
              "      <th>4</th>\n",
              "      <td>TEASRWXV</td>\n",
              "      <td>30</td>\n",
              "      <td>33</td>\n",
              "      <td>886787</td>\n",
              "      <td>0</td>\n",
              "      <td>0</td>\n",
              "      <td>0</td>\n",
              "      <td>0</td>\n",
              "      <td>2</td>\n",
              "      <td>0</td>\n",
              "      <td>32</td>\n",
              "    </tr>\n",
              "  </tbody>\n",
              "</table>\n",
              "</div>"
            ],
            "text/plain": [
              "         ID  Age  Vintage  ...  Occupation_new  Gender_New  Region_Code_New\n",
              "0  NNVBBKZB   73       43  ...               1           0               18\n",
              "1  IDD62UNG   30       32  ...               2           0               27\n",
              "2  HD3DSEMC   56       26  ...               3           0               18\n",
              "3  BF3NC7KV   34       19  ...               2           1               20\n",
              "4  TEASRWXV   30       33  ...               2           0               32\n",
              "\n",
              "[5 rows x 11 columns]"
            ]
          },
          "metadata": {
            "tags": []
          },
          "execution_count": 6
        }
      ]
    },
    {
      "cell_type": "code",
      "metadata": {
        "colab": {
          "base_uri": "https://localhost:8080/",
          "height": 195
        },
        "id": "s7EHgtYhHjYA",
        "outputId": "bb6fe8bc-4b3d-4c5b-f49b-6b374d69eb88"
      },
      "source": [
        "input_train = new_train.drop(columns=['ID', 'Is_Lead'], axis =1)\n",
        "input_train.head()"
      ],
      "execution_count": 7,
      "outputs": [
        {
          "output_type": "execute_result",
          "data": {
            "text/html": [
              "<div>\n",
              "<style scoped>\n",
              "    .dataframe tbody tr th:only-of-type {\n",
              "        vertical-align: middle;\n",
              "    }\n",
              "\n",
              "    .dataframe tbody tr th {\n",
              "        vertical-align: top;\n",
              "    }\n",
              "\n",
              "    .dataframe thead th {\n",
              "        text-align: right;\n",
              "    }\n",
              "</style>\n",
              "<table border=\"1\" class=\"dataframe\">\n",
              "  <thead>\n",
              "    <tr style=\"text-align: right;\">\n",
              "      <th></th>\n",
              "      <th>Age</th>\n",
              "      <th>Vintage</th>\n",
              "      <th>Avg_Account_Balance</th>\n",
              "      <th>Credit_Product_new</th>\n",
              "      <th>Is_Active_new</th>\n",
              "      <th>Channel_Code_new</th>\n",
              "      <th>Occupation_new</th>\n",
              "      <th>Gender_New</th>\n",
              "      <th>Region_Code_New</th>\n",
              "    </tr>\n",
              "  </thead>\n",
              "  <tbody>\n",
              "    <tr>\n",
              "      <th>0</th>\n",
              "      <td>73</td>\n",
              "      <td>43</td>\n",
              "      <td>1045696</td>\n",
              "      <td>0</td>\n",
              "      <td>0</td>\n",
              "      <td>2</td>\n",
              "      <td>1</td>\n",
              "      <td>0</td>\n",
              "      <td>18</td>\n",
              "    </tr>\n",
              "    <tr>\n",
              "      <th>1</th>\n",
              "      <td>30</td>\n",
              "      <td>32</td>\n",
              "      <td>581988</td>\n",
              "      <td>0</td>\n",
              "      <td>0</td>\n",
              "      <td>0</td>\n",
              "      <td>2</td>\n",
              "      <td>0</td>\n",
              "      <td>27</td>\n",
              "    </tr>\n",
              "    <tr>\n",
              "      <th>2</th>\n",
              "      <td>56</td>\n",
              "      <td>26</td>\n",
              "      <td>1484315</td>\n",
              "      <td>0</td>\n",
              "      <td>1</td>\n",
              "      <td>2</td>\n",
              "      <td>3</td>\n",
              "      <td>0</td>\n",
              "      <td>18</td>\n",
              "    </tr>\n",
              "    <tr>\n",
              "      <th>3</th>\n",
              "      <td>34</td>\n",
              "      <td>19</td>\n",
              "      <td>470454</td>\n",
              "      <td>0</td>\n",
              "      <td>0</td>\n",
              "      <td>0</td>\n",
              "      <td>2</td>\n",
              "      <td>1</td>\n",
              "      <td>20</td>\n",
              "    </tr>\n",
              "    <tr>\n",
              "      <th>4</th>\n",
              "      <td>30</td>\n",
              "      <td>33</td>\n",
              "      <td>886787</td>\n",
              "      <td>0</td>\n",
              "      <td>0</td>\n",
              "      <td>0</td>\n",
              "      <td>2</td>\n",
              "      <td>0</td>\n",
              "      <td>32</td>\n",
              "    </tr>\n",
              "  </tbody>\n",
              "</table>\n",
              "</div>"
            ],
            "text/plain": [
              "   Age  Vintage  ...  Gender_New  Region_Code_New\n",
              "0   73       43  ...           0               18\n",
              "1   30       32  ...           0               27\n",
              "2   56       26  ...           0               18\n",
              "3   34       19  ...           1               20\n",
              "4   30       33  ...           0               32\n",
              "\n",
              "[5 rows x 9 columns]"
            ]
          },
          "metadata": {
            "tags": []
          },
          "execution_count": 7
        }
      ]
    },
    {
      "cell_type": "code",
      "metadata": {
        "colab": {
          "base_uri": "https://localhost:8080/"
        },
        "id": "vqFgVNQ9ORdf",
        "outputId": "b61c290e-f844-4dc9-f767-e67fb0f17560"
      },
      "source": [
        "target = new_train['Is_Lead']\n",
        "target"
      ],
      "execution_count": 8,
      "outputs": [
        {
          "output_type": "execute_result",
          "data": {
            "text/plain": [
              "0         0\n",
              "1         0\n",
              "2         0\n",
              "3         0\n",
              "4         0\n",
              "         ..\n",
              "245720    0\n",
              "245721    0\n",
              "245722    0\n",
              "245723    0\n",
              "245724    0\n",
              "Name: Is_Lead, Length: 245725, dtype: int64"
            ]
          },
          "metadata": {
            "tags": []
          },
          "execution_count": 8
        }
      ]
    },
    {
      "cell_type": "markdown",
      "metadata": {
        "id": "htuAxpj6R_bU"
      },
      "source": [
        "###**CLEANING TEST DATA**"
      ]
    },
    {
      "cell_type": "code",
      "metadata": {
        "colab": {
          "base_uri": "https://localhost:8080/",
          "height": 402
        },
        "id": "u-aT9MUFEp9-",
        "outputId": "58827564-5ed7-464e-8273-2f3d7f5246db"
      },
      "source": [
        "#I have attached my drive nad imported files from there change the path before executing it\n",
        "test = pd.read_csv(\"/content/drive/MyDrive/Colab Notebooks/Analytics Vidya/test_mSzZ8RL.csv\")\n",
        "test"
      ],
      "execution_count": 9,
      "outputs": [
        {
          "output_type": "execute_result",
          "data": {
            "text/html": [
              "<div>\n",
              "<style scoped>\n",
              "    .dataframe tbody tr th:only-of-type {\n",
              "        vertical-align: middle;\n",
              "    }\n",
              "\n",
              "    .dataframe tbody tr th {\n",
              "        vertical-align: top;\n",
              "    }\n",
              "\n",
              "    .dataframe thead th {\n",
              "        text-align: right;\n",
              "    }\n",
              "</style>\n",
              "<table border=\"1\" class=\"dataframe\">\n",
              "  <thead>\n",
              "    <tr style=\"text-align: right;\">\n",
              "      <th></th>\n",
              "      <th>ID</th>\n",
              "      <th>Gender</th>\n",
              "      <th>Age</th>\n",
              "      <th>Region_Code</th>\n",
              "      <th>Occupation</th>\n",
              "      <th>Channel_Code</th>\n",
              "      <th>Vintage</th>\n",
              "      <th>Credit_Product</th>\n",
              "      <th>Avg_Account_Balance</th>\n",
              "      <th>Is_Active</th>\n",
              "    </tr>\n",
              "  </thead>\n",
              "  <tbody>\n",
              "    <tr>\n",
              "      <th>0</th>\n",
              "      <td>VBENBARO</td>\n",
              "      <td>Male</td>\n",
              "      <td>29</td>\n",
              "      <td>RG254</td>\n",
              "      <td>Other</td>\n",
              "      <td>X1</td>\n",
              "      <td>25</td>\n",
              "      <td>Yes</td>\n",
              "      <td>742366</td>\n",
              "      <td>No</td>\n",
              "    </tr>\n",
              "    <tr>\n",
              "      <th>1</th>\n",
              "      <td>CCMEWNKY</td>\n",
              "      <td>Male</td>\n",
              "      <td>43</td>\n",
              "      <td>RG268</td>\n",
              "      <td>Other</td>\n",
              "      <td>X2</td>\n",
              "      <td>49</td>\n",
              "      <td>NaN</td>\n",
              "      <td>925537</td>\n",
              "      <td>No</td>\n",
              "    </tr>\n",
              "    <tr>\n",
              "      <th>2</th>\n",
              "      <td>VK3KGA9M</td>\n",
              "      <td>Male</td>\n",
              "      <td>31</td>\n",
              "      <td>RG270</td>\n",
              "      <td>Salaried</td>\n",
              "      <td>X1</td>\n",
              "      <td>14</td>\n",
              "      <td>No</td>\n",
              "      <td>215949</td>\n",
              "      <td>No</td>\n",
              "    </tr>\n",
              "    <tr>\n",
              "      <th>3</th>\n",
              "      <td>TT8RPZVC</td>\n",
              "      <td>Male</td>\n",
              "      <td>29</td>\n",
              "      <td>RG272</td>\n",
              "      <td>Other</td>\n",
              "      <td>X1</td>\n",
              "      <td>33</td>\n",
              "      <td>No</td>\n",
              "      <td>868070</td>\n",
              "      <td>No</td>\n",
              "    </tr>\n",
              "    <tr>\n",
              "      <th>4</th>\n",
              "      <td>SHQZEYTZ</td>\n",
              "      <td>Female</td>\n",
              "      <td>29</td>\n",
              "      <td>RG270</td>\n",
              "      <td>Other</td>\n",
              "      <td>X1</td>\n",
              "      <td>19</td>\n",
              "      <td>No</td>\n",
              "      <td>657087</td>\n",
              "      <td>No</td>\n",
              "    </tr>\n",
              "    <tr>\n",
              "      <th>...</th>\n",
              "      <td>...</td>\n",
              "      <td>...</td>\n",
              "      <td>...</td>\n",
              "      <td>...</td>\n",
              "      <td>...</td>\n",
              "      <td>...</td>\n",
              "      <td>...</td>\n",
              "      <td>...</td>\n",
              "      <td>...</td>\n",
              "      <td>...</td>\n",
              "    </tr>\n",
              "    <tr>\n",
              "      <th>105307</th>\n",
              "      <td>DBENJOYI</td>\n",
              "      <td>Male</td>\n",
              "      <td>52</td>\n",
              "      <td>RG268</td>\n",
              "      <td>Salaried</td>\n",
              "      <td>X2</td>\n",
              "      <td>86</td>\n",
              "      <td>Yes</td>\n",
              "      <td>4242558</td>\n",
              "      <td>Yes</td>\n",
              "    </tr>\n",
              "    <tr>\n",
              "      <th>105308</th>\n",
              "      <td>CWQ72DWS</td>\n",
              "      <td>Male</td>\n",
              "      <td>55</td>\n",
              "      <td>RG277</td>\n",
              "      <td>Other</td>\n",
              "      <td>X2</td>\n",
              "      <td>86</td>\n",
              "      <td>Yes</td>\n",
              "      <td>1159153</td>\n",
              "      <td>No</td>\n",
              "    </tr>\n",
              "    <tr>\n",
              "      <th>105309</th>\n",
              "      <td>HDESC8GU</td>\n",
              "      <td>Male</td>\n",
              "      <td>35</td>\n",
              "      <td>RG254</td>\n",
              "      <td>Salaried</td>\n",
              "      <td>X4</td>\n",
              "      <td>15</td>\n",
              "      <td>No</td>\n",
              "      <td>1703727</td>\n",
              "      <td>No</td>\n",
              "    </tr>\n",
              "    <tr>\n",
              "      <th>105310</th>\n",
              "      <td>2PW4SFCA</td>\n",
              "      <td>Male</td>\n",
              "      <td>53</td>\n",
              "      <td>RG254</td>\n",
              "      <td>Other</td>\n",
              "      <td>X3</td>\n",
              "      <td>93</td>\n",
              "      <td>No</td>\n",
              "      <td>737178</td>\n",
              "      <td>Yes</td>\n",
              "    </tr>\n",
              "    <tr>\n",
              "      <th>105311</th>\n",
              "      <td>F2NOYPPZ</td>\n",
              "      <td>Male</td>\n",
              "      <td>27</td>\n",
              "      <td>RG256</td>\n",
              "      <td>Salaried</td>\n",
              "      <td>X1</td>\n",
              "      <td>21</td>\n",
              "      <td>No</td>\n",
              "      <td>591565</td>\n",
              "      <td>No</td>\n",
              "    </tr>\n",
              "  </tbody>\n",
              "</table>\n",
              "<p>105312 rows × 10 columns</p>\n",
              "</div>"
            ],
            "text/plain": [
              "              ID  Gender  Age  ... Credit_Product Avg_Account_Balance Is_Active\n",
              "0       VBENBARO    Male   29  ...            Yes              742366        No\n",
              "1       CCMEWNKY    Male   43  ...            NaN              925537        No\n",
              "2       VK3KGA9M    Male   31  ...             No              215949        No\n",
              "3       TT8RPZVC    Male   29  ...             No              868070        No\n",
              "4       SHQZEYTZ  Female   29  ...             No              657087        No\n",
              "...          ...     ...  ...  ...            ...                 ...       ...\n",
              "105307  DBENJOYI    Male   52  ...            Yes             4242558       Yes\n",
              "105308  CWQ72DWS    Male   55  ...            Yes             1159153        No\n",
              "105309  HDESC8GU    Male   35  ...             No             1703727        No\n",
              "105310  2PW4SFCA    Male   53  ...             No              737178       Yes\n",
              "105311  F2NOYPPZ    Male   27  ...             No              591565        No\n",
              "\n",
              "[105312 rows x 10 columns]"
            ]
          },
          "metadata": {
            "tags": []
          },
          "execution_count": 9
        }
      ]
    },
    {
      "cell_type": "code",
      "metadata": {
        "colab": {
          "base_uri": "https://localhost:8080/"
        },
        "id": "mC4Nth4KR1c2",
        "outputId": "641174ba-ac19-4618-f867-f4c11bb0f2dc"
      },
      "source": [
        "test.shape"
      ],
      "execution_count": 10,
      "outputs": [
        {
          "output_type": "execute_result",
          "data": {
            "text/plain": [
              "(105312, 10)"
            ]
          },
          "metadata": {
            "tags": []
          },
          "execution_count": 10
        }
      ]
    },
    {
      "cell_type": "code",
      "metadata": {
        "colab": {
          "base_uri": "https://localhost:8080/"
        },
        "id": "ft8knw8-SzY4",
        "outputId": "cf40d353-007d-4296-d83c-242a9e39fc1c"
      },
      "source": [
        "test.isnull().sum()"
      ],
      "execution_count": 11,
      "outputs": [
        {
          "output_type": "execute_result",
          "data": {
            "text/plain": [
              "ID                         0\n",
              "Gender                     0\n",
              "Age                        0\n",
              "Region_Code                0\n",
              "Occupation                 0\n",
              "Channel_Code               0\n",
              "Vintage                    0\n",
              "Credit_Product         12522\n",
              "Avg_Account_Balance        0\n",
              "Is_Active                  0\n",
              "dtype: int64"
            ]
          },
          "metadata": {
            "tags": []
          },
          "execution_count": 11
        }
      ]
    },
    {
      "cell_type": "code",
      "metadata": {
        "colab": {
          "base_uri": "https://localhost:8080/"
        },
        "id": "zLGJYFUpS-04",
        "outputId": "2b693490-f6df-4bd5-e69a-25c380dc0319"
      },
      "source": [
        "#new_test = test.dropna( how ='any')\n",
        "#new_test = test.fillna(method='ffill')\n",
        "new_test = test.fillna('Yes')\n",
        "new_test.head()\n",
        "print(new_test.isnull().sum())"
      ],
      "execution_count": 12,
      "outputs": [
        {
          "output_type": "stream",
          "text": [
            "ID                     0\n",
            "Gender                 0\n",
            "Age                    0\n",
            "Region_Code            0\n",
            "Occupation             0\n",
            "Channel_Code           0\n",
            "Vintage                0\n",
            "Credit_Product         0\n",
            "Avg_Account_Balance    0\n",
            "Is_Active              0\n",
            "dtype: int64\n"
          ],
          "name": "stdout"
        }
      ]
    },
    {
      "cell_type": "code",
      "metadata": {
        "id": "J8YA85KnTJK5"
      },
      "source": [
        "label1 = LabelEncoder()"
      ],
      "execution_count": 13,
      "outputs": []
    },
    {
      "cell_type": "code",
      "metadata": {
        "colab": {
          "base_uri": "https://localhost:8080/",
          "height": 215
        },
        "id": "uD1xXBTKTK10",
        "outputId": "c1bb87c8-05be-4a7b-9c33-33675532f8da"
      },
      "source": [
        "new_test['Credit_Product_new'] = label1.fit_transform(new_test['Credit_Product'])\n",
        "new_test = new_test.drop(\"Credit_Product\", axis = \"columns\")\n",
        "\n",
        "new_test['Is_Active_new'] = label1.fit_transform(new_test['Is_Active'])\n",
        "new_test = new_test.drop(\"Is_Active\", axis = \"columns\")\n",
        "\n",
        "new_test['Channel_Code_new'] = label1.fit_transform(new_test['Channel_Code'])\n",
        "new_test = new_test.drop(\"Channel_Code\", axis = \"columns\")\n",
        "\n",
        "new_test['Occupation_new'] = label1.fit_transform(new_test['Occupation'])\n",
        "new_test = new_test.drop(\"Occupation\", axis = \"columns\")\n",
        "\n",
        "new_test['Gender_New'] = label1.fit_transform(new_test['Gender'])\n",
        "new_test = new_test.drop(\"Gender\", axis = \"columns\")\n",
        "\n",
        "new_test['Region_Code_New'] = label1.fit_transform(new_test['Region_Code'])\n",
        "new_test = new_test.drop(\"Region_Code\", axis = \"columns\")\n",
        "\n",
        "new_test.head()"
      ],
      "execution_count": 14,
      "outputs": [
        {
          "output_type": "execute_result",
          "data": {
            "text/html": [
              "<div>\n",
              "<style scoped>\n",
              "    .dataframe tbody tr th:only-of-type {\n",
              "        vertical-align: middle;\n",
              "    }\n",
              "\n",
              "    .dataframe tbody tr th {\n",
              "        vertical-align: top;\n",
              "    }\n",
              "\n",
              "    .dataframe thead th {\n",
              "        text-align: right;\n",
              "    }\n",
              "</style>\n",
              "<table border=\"1\" class=\"dataframe\">\n",
              "  <thead>\n",
              "    <tr style=\"text-align: right;\">\n",
              "      <th></th>\n",
              "      <th>ID</th>\n",
              "      <th>Age</th>\n",
              "      <th>Vintage</th>\n",
              "      <th>Avg_Account_Balance</th>\n",
              "      <th>Credit_Product_new</th>\n",
              "      <th>Is_Active_new</th>\n",
              "      <th>Channel_Code_new</th>\n",
              "      <th>Occupation_new</th>\n",
              "      <th>Gender_New</th>\n",
              "      <th>Region_Code_New</th>\n",
              "    </tr>\n",
              "  </thead>\n",
              "  <tbody>\n",
              "    <tr>\n",
              "      <th>0</th>\n",
              "      <td>VBENBARO</td>\n",
              "      <td>29</td>\n",
              "      <td>25</td>\n",
              "      <td>742366</td>\n",
              "      <td>1</td>\n",
              "      <td>0</td>\n",
              "      <td>0</td>\n",
              "      <td>1</td>\n",
              "      <td>1</td>\n",
              "      <td>4</td>\n",
              "    </tr>\n",
              "    <tr>\n",
              "      <th>1</th>\n",
              "      <td>CCMEWNKY</td>\n",
              "      <td>43</td>\n",
              "      <td>49</td>\n",
              "      <td>925537</td>\n",
              "      <td>1</td>\n",
              "      <td>0</td>\n",
              "      <td>1</td>\n",
              "      <td>1</td>\n",
              "      <td>1</td>\n",
              "      <td>18</td>\n",
              "    </tr>\n",
              "    <tr>\n",
              "      <th>2</th>\n",
              "      <td>VK3KGA9M</td>\n",
              "      <td>31</td>\n",
              "      <td>14</td>\n",
              "      <td>215949</td>\n",
              "      <td>0</td>\n",
              "      <td>0</td>\n",
              "      <td>0</td>\n",
              "      <td>2</td>\n",
              "      <td>1</td>\n",
              "      <td>20</td>\n",
              "    </tr>\n",
              "    <tr>\n",
              "      <th>3</th>\n",
              "      <td>TT8RPZVC</td>\n",
              "      <td>29</td>\n",
              "      <td>33</td>\n",
              "      <td>868070</td>\n",
              "      <td>0</td>\n",
              "      <td>0</td>\n",
              "      <td>0</td>\n",
              "      <td>1</td>\n",
              "      <td>1</td>\n",
              "      <td>22</td>\n",
              "    </tr>\n",
              "    <tr>\n",
              "      <th>4</th>\n",
              "      <td>SHQZEYTZ</td>\n",
              "      <td>29</td>\n",
              "      <td>19</td>\n",
              "      <td>657087</td>\n",
              "      <td>0</td>\n",
              "      <td>0</td>\n",
              "      <td>0</td>\n",
              "      <td>1</td>\n",
              "      <td>0</td>\n",
              "      <td>20</td>\n",
              "    </tr>\n",
              "  </tbody>\n",
              "</table>\n",
              "</div>"
            ],
            "text/plain": [
              "         ID  Age  Vintage  ...  Occupation_new  Gender_New  Region_Code_New\n",
              "0  VBENBARO   29       25  ...               1           1                4\n",
              "1  CCMEWNKY   43       49  ...               1           1               18\n",
              "2  VK3KGA9M   31       14  ...               2           1               20\n",
              "3  TT8RPZVC   29       33  ...               1           1               22\n",
              "4  SHQZEYTZ   29       19  ...               1           0               20\n",
              "\n",
              "[5 rows x 10 columns]"
            ]
          },
          "metadata": {
            "tags": []
          },
          "execution_count": 14
        }
      ]
    },
    {
      "cell_type": "code",
      "metadata": {
        "colab": {
          "base_uri": "https://localhost:8080/",
          "height": 195
        },
        "id": "CNhvbamhTk7I",
        "outputId": "f2e32155-4f49-4fca-bfc9-da0ef4d0ac81"
      },
      "source": [
        "input_test = new_test.drop(columns=['ID'], axis =1)\n",
        "input_test.head()"
      ],
      "execution_count": 15,
      "outputs": [
        {
          "output_type": "execute_result",
          "data": {
            "text/html": [
              "<div>\n",
              "<style scoped>\n",
              "    .dataframe tbody tr th:only-of-type {\n",
              "        vertical-align: middle;\n",
              "    }\n",
              "\n",
              "    .dataframe tbody tr th {\n",
              "        vertical-align: top;\n",
              "    }\n",
              "\n",
              "    .dataframe thead th {\n",
              "        text-align: right;\n",
              "    }\n",
              "</style>\n",
              "<table border=\"1\" class=\"dataframe\">\n",
              "  <thead>\n",
              "    <tr style=\"text-align: right;\">\n",
              "      <th></th>\n",
              "      <th>Age</th>\n",
              "      <th>Vintage</th>\n",
              "      <th>Avg_Account_Balance</th>\n",
              "      <th>Credit_Product_new</th>\n",
              "      <th>Is_Active_new</th>\n",
              "      <th>Channel_Code_new</th>\n",
              "      <th>Occupation_new</th>\n",
              "      <th>Gender_New</th>\n",
              "      <th>Region_Code_New</th>\n",
              "    </tr>\n",
              "  </thead>\n",
              "  <tbody>\n",
              "    <tr>\n",
              "      <th>0</th>\n",
              "      <td>29</td>\n",
              "      <td>25</td>\n",
              "      <td>742366</td>\n",
              "      <td>1</td>\n",
              "      <td>0</td>\n",
              "      <td>0</td>\n",
              "      <td>1</td>\n",
              "      <td>1</td>\n",
              "      <td>4</td>\n",
              "    </tr>\n",
              "    <tr>\n",
              "      <th>1</th>\n",
              "      <td>43</td>\n",
              "      <td>49</td>\n",
              "      <td>925537</td>\n",
              "      <td>1</td>\n",
              "      <td>0</td>\n",
              "      <td>1</td>\n",
              "      <td>1</td>\n",
              "      <td>1</td>\n",
              "      <td>18</td>\n",
              "    </tr>\n",
              "    <tr>\n",
              "      <th>2</th>\n",
              "      <td>31</td>\n",
              "      <td>14</td>\n",
              "      <td>215949</td>\n",
              "      <td>0</td>\n",
              "      <td>0</td>\n",
              "      <td>0</td>\n",
              "      <td>2</td>\n",
              "      <td>1</td>\n",
              "      <td>20</td>\n",
              "    </tr>\n",
              "    <tr>\n",
              "      <th>3</th>\n",
              "      <td>29</td>\n",
              "      <td>33</td>\n",
              "      <td>868070</td>\n",
              "      <td>0</td>\n",
              "      <td>0</td>\n",
              "      <td>0</td>\n",
              "      <td>1</td>\n",
              "      <td>1</td>\n",
              "      <td>22</td>\n",
              "    </tr>\n",
              "    <tr>\n",
              "      <th>4</th>\n",
              "      <td>29</td>\n",
              "      <td>19</td>\n",
              "      <td>657087</td>\n",
              "      <td>0</td>\n",
              "      <td>0</td>\n",
              "      <td>0</td>\n",
              "      <td>1</td>\n",
              "      <td>0</td>\n",
              "      <td>20</td>\n",
              "    </tr>\n",
              "  </tbody>\n",
              "</table>\n",
              "</div>"
            ],
            "text/plain": [
              "   Age  Vintage  ...  Gender_New  Region_Code_New\n",
              "0   29       25  ...           1                4\n",
              "1   43       49  ...           1               18\n",
              "2   31       14  ...           1               20\n",
              "3   29       33  ...           1               22\n",
              "4   29       19  ...           0               20\n",
              "\n",
              "[5 rows x 9 columns]"
            ]
          },
          "metadata": {
            "tags": []
          },
          "execution_count": 15
        }
      ]
    },
    {
      "cell_type": "markdown",
      "metadata": {
        "id": "Xez6UJcHSs20"
      },
      "source": [
        "###**CREATING MODEL**"
      ]
    },
    {
      "cell_type": "code",
      "metadata": {
        "id": "bs96wuM5V7L_"
      },
      "source": [
        "from sklearn.model_selection import train_test_split\n",
        "from sklearn.linear_model import LogisticRegression\n",
        "from sklearn import tree\n",
        "from sklearn.ensemble import RandomForestClassifier\n",
        "from sklearn.naive_bayes import GaussianNB\n",
        "from sklearn.svm import SVC \n",
        "from xgboost import XGBClassifier\n",
        "import lightgbm as lgb\n",
        "from sklearn.metrics import roc_auc_score"
      ],
      "execution_count": 16,
      "outputs": []
    },
    {
      "cell_type": "code",
      "metadata": {
        "id": "TqHC-aUGWv_q"
      },
      "source": [
        "X_train, X_test, y_train, y_test = train_test_split(input_train, target, test_size=0.3)"
      ],
      "execution_count": 17,
      "outputs": []
    },
    {
      "cell_type": "markdown",
      "metadata": {
        "id": "YoYHqdrIodv3"
      },
      "source": [
        "####**Random Forest**"
      ]
    },
    {
      "cell_type": "code",
      "metadata": {
        "colab": {
          "base_uri": "https://localhost:8080/"
        },
        "id": "hxh6SvzVPUC2",
        "outputId": "56728ce4-3082-437f-9d0a-f7e682d9ebe8"
      },
      "source": [
        "model = RandomForestClassifier(n_estimators = 500, n_jobs = -1,random_state =50, min_samples_leaf = 50)\n",
        "model.fit(X_train, y_train)\n",
        "\n",
        "acc = model.score(X_test, y_test)\n",
        "print(\"Accuracy:\", acc*100)\n",
        "\n",
        "y_predicted = model.predict(X_test)\n",
        "print(\"\\nAUC - ROC : \", roc_auc_score(y_test, y_predicted))"
      ],
      "execution_count": null,
      "outputs": [
        {
          "output_type": "stream",
          "text": [
            "Accuracy: 82.23364714181068\n",
            "\n",
            "AUC - ROC :  0.7329834028078337\n"
          ],
          "name": "stdout"
        }
      ]
    },
    {
      "cell_type": "markdown",
      "metadata": {
        "id": "dq9Nls7w1fuh"
      },
      "source": [
        "####**Decision Tree**"
      ]
    },
    {
      "cell_type": "code",
      "metadata": {
        "colab": {
          "base_uri": "https://localhost:8080/"
        },
        "id": "LN_jZ3Zt1joY",
        "outputId": "466e6610-495c-4c3e-f527-d999282b02e0"
      },
      "source": [
        "model = tree.DecisionTreeClassifier()\n",
        "model.fit(X_train, y_train)\n",
        "\n",
        "acc = model.score(X_test, y_test)\n",
        "print(\"Accuracy:\", acc*100)\n",
        "\n",
        "y_predicted = model.predict(X_test)\n",
        "print(\"\\nAUC - ROC : \", roc_auc_score(y_test, y_predicted))"
      ],
      "execution_count": null,
      "outputs": [
        {
          "output_type": "stream",
          "text": [
            "Accuracy: 75.10513036164845\n",
            "\n",
            "AUC - ROC :  0.661581559215565\n"
          ],
          "name": "stdout"
        }
      ]
    },
    {
      "cell_type": "markdown",
      "metadata": {
        "id": "aiPXuC6mpV6l"
      },
      "source": [
        "####**LGB Classifier**"
      ]
    },
    {
      "cell_type": "code",
      "metadata": {
        "colab": {
          "base_uri": "https://localhost:8080/"
        },
        "id": "2A2f-Rj-oz4Q",
        "outputId": "f63d41d8-be93-43be-e539-1562087f045c"
      },
      "source": [
        "model = lgb.LGBMClassifier()\n",
        "model.fit(X_train, y_train)\n",
        "\n",
        "acc = model.score(X_test, y_test)\n",
        "print(\"Accuracy:\", acc*100)\n",
        "\n",
        "y_predicted = model.predict(X_test)\n",
        "print(\"\\nAUC - ROC : \", roc_auc_score(y_test, y_predicted))"
      ],
      "execution_count": 18,
      "outputs": [
        {
          "output_type": "stream",
          "text": [
            "Accuracy: 82.62568165169972\n",
            "\n",
            "AUC - ROC :  0.734525969921788\n"
          ],
          "name": "stdout"
        }
      ]
    },
    {
      "cell_type": "markdown",
      "metadata": {
        "id": "x1tBkFd5o6Hd"
      },
      "source": [
        "####**XGBoost**"
      ]
    },
    {
      "cell_type": "code",
      "metadata": {
        "colab": {
          "base_uri": "https://localhost:8080/"
        },
        "id": "upjkLj1ho_Ye",
        "outputId": "63709e8b-5f6f-4eba-8756-8ca767a3c907"
      },
      "source": [
        "model = XGBClassifier(n_estimators=2000,tree_method='hist',subsample=0.67,colsample_level=0.06,verbose=0,n_jobs=6,random_state=1234)\n",
        "model.fit(X_train, y_train)\n",
        "\n",
        "acc = model.score(X_test, y_test)\n",
        "print(\"Accuracy:\", acc*100)\n",
        "\n",
        "y_predicted = model.predict(X_test)\n",
        "print(\"\\nAUC - ROC : \", roc_auc_score(y_test, y_predicted))"
      ],
      "execution_count": 109,
      "outputs": [
        {
          "output_type": "stream",
          "text": [
            "Accuracy: 82.46154263544861\n",
            "\n",
            "AUC - ROC :  0.7300877427480084\n"
          ],
          "name": "stdout"
        }
      ]
    },
    {
      "cell_type": "markdown",
      "metadata": {
        "id": "p4-DA1Wn0NI-"
      },
      "source": [
        "####**CatBoost**"
      ]
    },
    {
      "cell_type": "code",
      "metadata": {
        "colab": {
          "base_uri": "https://localhost:8080/"
        },
        "id": "47wdEhTx0KiP",
        "outputId": "181fb93b-79d1-4149-a894-176182a5abee"
      },
      "source": [
        "from catboost import CatBoostClassifier\n",
        "\n",
        "model = CatBoostClassifier(iterations=5, learning_rate=0.5)\n",
        "model.fit(X_train, y_train)\n",
        "\n",
        "acc = model.score(X_test, y_test)\n",
        "print(\"Accuracy:\", acc*100)\n",
        "\n",
        "y_predicted = model.predict(X_test)\n",
        "print(\"\\nAUC - ROC : \", roc_auc_score(y_test, y_predicted))"
      ],
      "execution_count": null,
      "outputs": [
        {
          "output_type": "stream",
          "text": [
            "0:\tlearn: 0.5051804\ttotal: 29ms\tremaining: 116ms\n",
            "1:\tlearn: 0.4427722\ttotal: 55.7ms\tremaining: 83.5ms\n",
            "2:\tlearn: 0.4142409\ttotal: 84.8ms\tremaining: 56.6ms\n",
            "3:\tlearn: 0.3983114\ttotal: 114ms\tremaining: 28.6ms\n",
            "4:\tlearn: 0.3920343\ttotal: 145ms\tremaining: 0us\n",
            "Accuracy: 82.10884722862801\n",
            "\n",
            "AUC - ROC :  0.7368779891801558\n"
          ],
          "name": "stdout"
        }
      ]
    },
    {
      "cell_type": "markdown",
      "metadata": {
        "id": "vkry_5lIolbx"
      },
      "source": [
        "####**Random Forest mutiple leaves**"
      ]
    },
    {
      "cell_type": "code",
      "metadata": {
        "colab": {
          "base_uri": "https://localhost:8080/"
        },
        "id": "4AufLQAoQIuh",
        "outputId": "844d75a2-0f51-4c0f-c359-1c0fae14124e"
      },
      "source": [
        "sample_leaf_options = [1,2,3,4,5,10,20,50]\n",
        "for leaf_size in sample_leaf_options :\n",
        "    model = RandomForestClassifier(n_estimators = 200, n_jobs = -1,random_state =50, min_samples_leaf = leaf_size)\n",
        "    model.fit(X_train, y_train)\n",
        "    print(\"\\n Leaf size :\", leaf_size)\n",
        "    print(\"\\AUC - ROC : \", roc_auc_score(y_test, model.predict(X_test)))"
      ],
      "execution_count": null,
      "outputs": [
        {
          "output_type": "stream",
          "text": [
            "\n",
            " Leaf size : 1\n",
            "\\AUC - ROC :  0.7102640300341666\n",
            "\n",
            " Leaf size : 2\n",
            "\\AUC - ROC :  0.7179031590551662\n",
            "\n",
            " Leaf size : 3\n",
            "\\AUC - ROC :  0.7222776775570241\n",
            "\n",
            " Leaf size : 4\n",
            "\\AUC - ROC :  0.7252987598909548\n",
            "\n",
            " Leaf size : 5\n",
            "\\AUC - ROC :  0.7259320718997038\n",
            "\n",
            " Leaf size : 10\n",
            "\\AUC - ROC :  0.7315646358783928\n",
            "\n",
            " Leaf size : 20\n",
            "\\AUC - ROC :  0.7320865355247372\n",
            "\n",
            " Leaf size : 50\n",
            "\\AUC - ROC :  0.7335562760676635\n"
          ],
          "name": "stdout"
        }
      ]
    },
    {
      "cell_type": "markdown",
      "metadata": {
        "id": "lT3h2bIZYW21"
      },
      "source": [
        "#### **Checking Accuracy**"
      ]
    },
    {
      "cell_type": "code",
      "metadata": {
        "colab": {
          "base_uri": "https://localhost:8080/"
        },
        "id": "EEN3CEO0T04V",
        "outputId": "968a4ac6-d3bd-47a5-9e4e-17079864f20c"
      },
      "source": [
        "acc = model.score(X_test, y_test)\n",
        "print(\"Accuracy:\", acc*100)\n",
        "\n",
        "y_predicted = model.predict(X_test)\n",
        "print(\"\\nAUC - ROC : \", roc_auc_score(y_test, y_predicted))"
      ],
      "execution_count": 19,
      "outputs": [
        {
          "output_type": "stream",
          "text": [
            "Accuracy: 82.62568165169972\n",
            "\n",
            "AUC - ROC :  0.734525969921788\n"
          ],
          "name": "stdout"
        }
      ]
    },
    {
      "cell_type": "markdown",
      "metadata": {
        "id": "SPgKrfCMYa_n"
      },
      "source": [
        "####**Predicting the values**"
      ]
    },
    {
      "cell_type": "code",
      "metadata": {
        "colab": {
          "base_uri": "https://localhost:8080/"
        },
        "id": "kgcqZmJkQro4",
        "outputId": "5d9021e1-47bf-4f80-f228-1eead8118f05"
      },
      "source": [
        "prediction = model.predict(input_test)\n",
        "prediction"
      ],
      "execution_count": 110,
      "outputs": [
        {
          "output_type": "execute_result",
          "data": {
            "text/plain": [
              "array([0, 0, 0, ..., 0, 0, 0])"
            ]
          },
          "metadata": {
            "tags": []
          },
          "execution_count": 110
        }
      ]
    },
    {
      "cell_type": "markdown",
      "metadata": {
        "id": "7X87_x3dYe9A"
      },
      "source": [
        "####**Confusion Matrix**"
      ]
    },
    {
      "cell_type": "code",
      "metadata": {
        "id": "XBMhjrCvUUHG"
      },
      "source": [
        "from sklearn.metrics import confusion_matrix"
      ],
      "execution_count": 111,
      "outputs": []
    },
    {
      "cell_type": "code",
      "metadata": {
        "colab": {
          "base_uri": "https://localhost:8080/",
          "height": 296
        },
        "id": "ssYVTIpXYnII",
        "outputId": "3e8b3b88-5247-402f-9fe6-30efd3a9ff69"
      },
      "source": [
        "y_predicted = model.predict(X_test)\n",
        "cm = confusion_matrix(y_test, y_predicted)\n",
        "sns.heatmap(cm, annot=True)\n",
        "plt.xlabel('Predicted')\n",
        "plt.ylabel('Truth')"
      ],
      "execution_count": 98,
      "outputs": [
        {
          "output_type": "execute_result",
          "data": {
            "text/plain": [
              "Text(33.0, 0.5, 'Truth')"
            ]
          },
          "metadata": {
            "tags": []
          },
          "execution_count": 98
        },
        {
          "output_type": "display_data",
          "data": {
            "image/png": "[encoded data removed]",
            "text/plain": [
              "<Figure size 432x288 with 2 Axes>"
            ]
          },
          "metadata": {
            "tags": [],
            "needs_background": "light"
          }
        }
      ]
    },
    {
      "cell_type": "markdown",
      "metadata": {
        "id": "8N6A6iUCf7mJ"
      },
      "source": [
        "###**SAMPLE SUBMISSION CSV**"
      ]
    },
    {
      "cell_type": "code",
      "metadata": {
        "id": "1rdL_Csug4yp",
        "colab": {
          "base_uri": "https://localhost:8080/"
        },
        "outputId": "0c26c5ad-a35a-4096-9649-b43bf9f6a14f"
      },
      "source": [
        "ID = new_test['ID']\n",
        "data={'ID':ID, 'Is_Lead' : prediction}\n",
        "data"
      ],
      "execution_count": 103,
      "outputs": [
        {
          "output_type": "execute_result",
          "data": {
            "text/plain": [
              "{'ID': 0         VBENBARO\n",
              " 1         CCMEWNKY\n",
              " 2         VK3KGA9M\n",
              " 3         TT8RPZVC\n",
              " 4         SHQZEYTZ\n",
              "             ...   \n",
              " 105307    DBENJOYI\n",
              " 105308    CWQ72DWS\n",
              " 105309    HDESC8GU\n",
              " 105310    2PW4SFCA\n",
              " 105311    F2NOYPPZ\n",
              " Name: ID, Length: 105312, dtype: object,\n",
              " 'Is_Lead': array([0, 0, 0, ..., 0, 0, 0])}"
            ]
          },
          "metadata": {
            "tags": []
          },
          "execution_count": 103
        }
      ]
    },
    {
      "cell_type": "code",
      "metadata": {
        "colab": {
          "base_uri": "https://localhost:8080/",
          "height": 402
        },
        "id": "4GWznNHNgB-_",
        "outputId": "7f6966da-dcca-40b9-9936-cfa0bd944bf9"
      },
      "source": [
        "new_df = pd.DataFrame(data=data)\n",
        "new_df"
      ],
      "execution_count": 104,
      "outputs": [
        {
          "output_type": "execute_result",
          "data": {
            "text/html": [
              "<div>\n",
              "<style scoped>\n",
              "    .dataframe tbody tr th:only-of-type {\n",
              "        vertical-align: middle;\n",
              "    }\n",
              "\n",
              "    .dataframe tbody tr th {\n",
              "        vertical-align: top;\n",
              "    }\n",
              "\n",
              "    .dataframe thead th {\n",
              "        text-align: right;\n",
              "    }\n",
              "</style>\n",
              "<table border=\"1\" class=\"dataframe\">\n",
              "  <thead>\n",
              "    <tr style=\"text-align: right;\">\n",
              "      <th></th>\n",
              "      <th>ID</th>\n",
              "      <th>Is_Lead</th>\n",
              "    </tr>\n",
              "  </thead>\n",
              "  <tbody>\n",
              "    <tr>\n",
              "      <th>0</th>\n",
              "      <td>VBENBARO</td>\n",
              "      <td>0</td>\n",
              "    </tr>\n",
              "    <tr>\n",
              "      <th>1</th>\n",
              "      <td>CCMEWNKY</td>\n",
              "      <td>0</td>\n",
              "    </tr>\n",
              "    <tr>\n",
              "      <th>2</th>\n",
              "      <td>VK3KGA9M</td>\n",
              "      <td>0</td>\n",
              "    </tr>\n",
              "    <tr>\n",
              "      <th>3</th>\n",
              "      <td>TT8RPZVC</td>\n",
              "      <td>0</td>\n",
              "    </tr>\n",
              "    <tr>\n",
              "      <th>4</th>\n",
              "      <td>SHQZEYTZ</td>\n",
              "      <td>0</td>\n",
              "    </tr>\n",
              "    <tr>\n",
              "      <th>...</th>\n",
              "      <td>...</td>\n",
              "      <td>...</td>\n",
              "    </tr>\n",
              "    <tr>\n",
              "      <th>105307</th>\n",
              "      <td>DBENJOYI</td>\n",
              "      <td>1</td>\n",
              "    </tr>\n",
              "    <tr>\n",
              "      <th>105308</th>\n",
              "      <td>CWQ72DWS</td>\n",
              "      <td>1</td>\n",
              "    </tr>\n",
              "    <tr>\n",
              "      <th>105309</th>\n",
              "      <td>HDESC8GU</td>\n",
              "      <td>0</td>\n",
              "    </tr>\n",
              "    <tr>\n",
              "      <th>105310</th>\n",
              "      <td>2PW4SFCA</td>\n",
              "      <td>0</td>\n",
              "    </tr>\n",
              "    <tr>\n",
              "      <th>105311</th>\n",
              "      <td>F2NOYPPZ</td>\n",
              "      <td>0</td>\n",
              "    </tr>\n",
              "  </tbody>\n",
              "</table>\n",
              "<p>105312 rows × 2 columns</p>\n",
              "</div>"
            ],
            "text/plain": [
              "              ID  Is_Lead\n",
              "0       VBENBARO        0\n",
              "1       CCMEWNKY        0\n",
              "2       VK3KGA9M        0\n",
              "3       TT8RPZVC        0\n",
              "4       SHQZEYTZ        0\n",
              "...          ...      ...\n",
              "105307  DBENJOYI        1\n",
              "105308  CWQ72DWS        1\n",
              "105309  HDESC8GU        0\n",
              "105310  2PW4SFCA        0\n",
              "105311  F2NOYPPZ        0\n",
              "\n",
              "[105312 rows x 2 columns]"
            ]
          },
          "metadata": {
            "tags": []
          },
          "execution_count": 104
        }
      ]
    },
    {
      "cell_type": "code",
      "metadata": {
        "id": "cpaoqPX0hChd"
      },
      "source": [
        "new_df.to_csv('sample_submission_RF.csv', index=False)\n",
        "#/content/drive/MyDrive/Colab Notebooks/Analytics Vidya/"
      ],
      "execution_count": 108,
      "outputs": []
    },
    {
      "cell_type": "code",
      "metadata": {
        "colab": {
          "base_uri": "https://localhost:8080/"
        },
        "id": "R4grO8fLjle9",
        "outputId": "8ffaecf1-e256-4321-b9a2-f48c8a398734"
      },
      "source": [
        "new_df.shape"
      ],
      "execution_count": 107,
      "outputs": [
        {
          "output_type": "execute_result",
          "data": {
            "text/plain": [
              "(105312, 2)"
            ]
          },
          "metadata": {
            "tags": []
          },
          "execution_count": 107
        }
      ]
    },
    {
      "cell_type": "markdown",
      "metadata": {
        "id": "io4F3W7Kk9rs"
      },
      "source": [
        "**Done!**"
      ]
    }
  ]
}